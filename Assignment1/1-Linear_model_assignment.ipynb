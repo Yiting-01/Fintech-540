{
 "cells": [
  {
   "cell_type": "markdown",
   "id": "a093e9ec-92aa-4a45-bd1b-499c648b5f2e",
   "metadata": {
    "deletable": false,
    "editable": false,
    "tags": []
   },
   "source": [
    "# First Assignment - FINTECH 540 - Machine Learning for FinTech\n",
    "\n",
    "In this assignment, you will gain hands-on experience applying linear models to financial market data. Specifically, you will work with time series prices of the 30 constituents of the *Dow Jones Industrial Average (DJIA)* Index. The dataset covers the period from June $2^{nd}$, 2017, through June $2^{nd}$, 2023. The price series of the ETF associated with the DJIA index is also provided, whose symbol is *DIA*. The dataset is uploaded on Sakai in the same place where you found this notebook.\n",
    "\n",
    "You will deal with three consecutive tasks, so in general, you can only perform a task if you have solved the previous one. You can obtain at most 100 points for this home assignment. The tasks are briefly summarized below, and you can find the relative prompt in each subsection of this notebook:\n",
    "- Build descriptive linear models (CAPM) for all the index constituents (*20 points*).\n",
    "- Select a subset of constituents and fit a predictive linear model to forecast the index value (*40 points*).\n",
    "- Repeat the linear modeling exercise using boostrapped returns (*40 points*).\n",
    "\n",
    "## About this notebook\n",
    "\n",
    "You only need to write the final code between the `### START CODE HERE ###` and `### END CODE HERE ###` comments. You can create more cells to experiment with and prepare your final code at your convenience. Remember to put the final version of the code where it is asked. Before submitting, remember to fully run your notebook from the start to the end to ensure that there will be no runtime error. Avoiding following such guidelines will result in a decrease in the total points."
   ]
  },
  {
   "cell_type": "markdown",
   "id": "a77b438b-9bf5-4cdc-879a-49aa0e6dec56",
   "metadata": {
    "deletable": false,
    "editable": false,
    "tags": []
   },
   "source": [
    "## Task 1 - Build descriptive linear models (CAPM) for all the index constituents (*20 points*)\n",
    "\n",
    "The Capital Asset Pricing Model (CAPM) is represented as:\n",
    "\n",
    "$$R_i - R_f =   \\beta_i (R_m - R_f) + e_i$$\n",
    "\n",
    "Where:\n",
    "- $R_i$ is the return of the asset or security $i$.\n",
    "- $R_f$ is the risk-free rate, representing the return on a risk-free investment.\n",
    "- $\\beta_i$ is the beta of the asset $i$, which measures its sensitivity to market movements.\n",
    "- $R_m$ is the market portfolio's return (the index).\n",
    "- $e_i$ is the error term or residual representing unexplained variation in the asset's return.\n",
    "\n",
    "The CAPM equation helps estimate the return of an asset based on its risk relative to the market and the risk-free rate. You can calculate the daily risk-free rate by using the following formula.\n",
    "\n",
    "$$ r_{\\text{daily}} = \\left(1 + r_{\\text{annual}}\\right)^{\\frac{1}{365}} - 1 $$\n",
    "\n",
    "Where:\n",
    "- $r_{\\text{daily}}$ is the daily yield. It represents the expected daily return on investment.\n",
    "- $ r_{\\text{annual}} $ is the annual yield. It represents the expected annual return on investment.\n",
    "- The formula assumes daily compounding, meaning the investment's return is calculated daily over a year (365 days). It allows to do the modeling based on daily returns.\n",
    "\n",
    "For this task, you can use an annual yield of *5.482%* per the annualized U.S. 3-month Treasury Bill yield.\n",
    "\n",
    "To solve this part of the homework, you have to:\n",
    "- Compute the daily yield from the annualized provided in the prompt.\n",
    "- Prepared the data to fit the CAPM for each company in the DJIA index described above.\n",
    "- Fit the CAPM for each company and check the estimated sensitivity to market movements.\n",
    "- Select a subset of stocks sensitive to market movements between 0.85 and 1.15. Before including a symbol, ensure the estimated sensitivity is statistically significant. Store the symbols in a Python list before moving to the next task.\n",
    "\n",
    "Before performing the CAPM modeling, remember to split the dataset into a training set and a test set and use only the training set to perform Task 1. Use *2022-01-01* as a cutoff date. Ensure the cutoff date is included in the test set and not in the train set.\n",
    "\n",
    "**Motivation behind the task**\n",
    "\n",
    "Fitting individual CAPM models allows for a detailed assessment of each stock's risk profile. CAPM provides a systematic way to quantify the sensitivity of each stock's returns to market movements, as measured by the beta coefficient. This individual assessment is valuable because different stocks may exhibit varying levels of market sensitivity.\n",
    "\n",
    "Selecting stocks based on their beta values is usually a risk-based approach to portfolio construction. By choosing stocks with higher (lower) beta values, you are essentially selecting those that tend to exhibit greater (lower) price volatility in response to market fluctuations. This can be seen as a deliberate strategy to include riskier (safer) assets in the portfolio.\n",
    "\n",
    "This task will set the basis for selecting a subset of index constituents to be used for a predictive model. \n",
    "\n",
    "**Grading Criteria**\n",
    "\n",
    "- **Data Preparation (10 points)**: Points will be awarded for preparing the data appropriately for the modeling task.\n",
    "\n",
    "- **CAPM Model Fitting (10 points)**: Points will be awarded based on the correctness and completeness of the CAPM models, including accurate significance evaluation and the subset of stock selection based on the beta estimations."
   ]
  },
  {
   "cell_type": "code",
   "execution_count": null,
   "id": "8c65900a-6b26-442e-8b39-f7e838e8b806",
   "metadata": {},
   "outputs": [],
   "source": [
    "### START CODE HERE ###\n",
    "\n",
    "\n",
    "\n",
    "### END CODE HERE ###"
   ]
  },
  {
   "cell_type": "markdown",
   "id": "35e33509-f970-4a7d-9c3c-ca7a97ccde8a",
   "metadata": {
    "deletable": false,
    "editable": false,
    "tags": []
   },
   "source": [
    "## Task 2 - Select a subset of constituents and fit a predictive linear model to forecast the index value (*40 points*)\n",
    "\n",
    "In this task, you will apply linear predictive modeling techniques to forecast the value of the DIA ETF on the DJIA index using the subset of its constituents you selected in the previous task. The goal is to build a predictive linear model that accurately estimates the future index return based on the historical data of selected constituent stocks. Note that to perform this predictive task, you have to prepare the data accordingly. Don't use the excess returns with respect to a daily risk-free rate for this task, but use the plain returns instead.\n",
    "\n",
    "The predictive linear regression equation to estimate the dependent variable \\(Y\\) at time \\(t+1\\) is represented as:\n",
    "\n",
    "$$ Y_{t+1} = \\beta_0 + \\beta_1 X_{1,t} + \\beta_2 X_{2,t} + \\ldots + \\beta_k X_{k,t} + \\varepsilon_{t} $$\n",
    "\n",
    "In this equation:\n",
    "\n",
    "- $Y_{t+1}$ represents the dependent variable at time $t+1$ that we want to predict. Note that the dependent variable is real-valued.\n",
    "- $\\beta_0$ is the intercept or constant term.\n",
    "- $\\beta_1, \\beta_2, \\ldots, \\beta_k$ are the $k$ coefficients for the independent variables $ X_{1,t}, X_{2,t}, \\ldots, X_{k,t} $ at time $t$. you can assume $k$ to be the number of selected stocks from the previous task. Note that the regressors are real-valued.\n",
    "- $\\varepsilon_{t}$ represents the error term at time $t$, capturing unexplained variation or noise in the dependent variable at that specific time.\n",
    "\n",
    "Before performing the linear regression modeling, remember to split the dataset into a training set and a test set. Use *2022-01-01* as a cutoff date, the same way you did in the previous task. Make sure the cutoff date will be included in the test set and not in the train set.\n",
    "\n",
    "Assess the performance of your predictive model using an appropriate evaluation metric for a regression problem like this one. Evaluate the model on the test set to ensure its predictive accuracy out-of-sample.\n",
    "\n",
    "**Grading Criteria**\n",
    "\n",
    "- **Data Preparation (15 points)**: Points will be awarded for preparing the data appropriately for the modeling task.\n",
    "\n",
    "- **Predictive Regression Model Building (20 points)**: Points will be awarded based on the correctness and completeness of the regression model built using selected stocks' returns and the index return.\n",
    "\n",
    "- **Model Evaluation (5 points)**: Points will be awarded based on the proper choice of evaluation metric."
   ]
  },
  {
   "cell_type": "code",
   "execution_count": null,
   "id": "f12a3ac2-68c5-4268-a2d5-f016ef179b42",
   "metadata": {},
   "outputs": [],
   "source": [
    "### START CODE HERE ###\n",
    "\n",
    "\n",
    "\n",
    "### END CODE HERE ###"
   ]
  },
  {
   "cell_type": "markdown",
   "id": "22aee638-53a5-41ce-8ac6-9c6f030870af",
   "metadata": {
    "deletable": false,
    "editable": false,
    "tags": []
   },
   "source": [
    "## Task 3 - Augment the Dataset with Bootstrapped Alphas and Fit again the Linear Predictive Models (40 points)\n",
    "\n",
    "In this task, we explore the concept of bootstrapped alphas and their role in predictive modeling. Bootstrapped alphas are used as proxy trading signals for real alphas that can be practically obtained. These signals are correlated with future returns and can play the role of good predictors in the predictive modeling process. Don't use the excess returns with respect to a daily risk-free rate for this task, but use the plain returns instead when you have to calculate the boostrapped alphas.\n",
    "\n",
    "We define bootstrapped alphas $\\alpha_t$ as per the formula below:\n",
    "\n",
    "$$\\alpha_{i,t} := \\rho_{\\text{boot}} r_{i,t+1} + \\sqrt{1 - \\rho_{\\text{boot}}^{2}} z_{i,t}$$\n",
    "\n",
    "where:\n",
    "- $r_{i,t+1}$ represents the next period return of the traded security $i$, which is given to you.\n",
    "- $z_{i,t} \\sim \\mathbb{N}(0,\\sigma^{2})$ is a randomly drawn scalar associated for each company $i$, which is not given and you have to sample. When sampling, ensure that each sampled vector is independent of the other since you have to draw samples for each company you will use as regressors. The number of companies stays the same that you used in the previous task and that you have selected by fitting the CAPM model in task 1.\n",
    "- $\\sigma^{2}_{i}$ is an estimate of the true conditional variance of the security $i$, which you have to calculate based on the given returns. Note that you have to calculate those variances on the train set only. Use the same cutoff applied in the previous task to define what the training set is.\n",
    "- $\\rho_{\\text{boot}} \\in [-1,1]$ is a correlation coefficient, which you have to set equal to 0.25.\n",
    "\n",
    "In this setting, the parameter $\\rho_{\\text{boot}}$ artificially regulates the strength of the trading signal you create. We remark that regressing the bootstrapped alpha $\\alpha_t$ on the future returns $r_{t+1}$ results in an $R^2$ equal to $\\rho^2$.\n",
    "\n",
    "The equation above formalizes the calculation of the boostrapped alpha for a single security while you will have more than one security. Try to make your calculations as efficient as possible by computing them simultaneously. It is possible by using calculations between pandas dataframe. Remember that $z_{i,t} \\sim \\mathcal{N}(0,\\sigma^{2}_{i})$ can be calculated as $z_{i,t} = \\sqrt{\\sigma^{2}_{i}}u_{i,t}$ where $u_{i,t} \\sim \\mathcal{N}(0,1)$. \n",
    "\n",
    "Once you calculate the boostrapped alphas, repeat the linear predictive forecasting exercise as in the previous task. This time you will use the boostrapped alphas as predictors, while you will keep the same target as before, the index returns. In other words, the target stays the same as in the previous task (future returns for DIA) by looking at the equation below. Still, the predictors change from the current returns of the constituents to the alpha bootstrap you have calculated.\n",
    "\n",
    "$$ Y_{t+1} = \\beta_0 + \\beta_1 X_{1,t} + \\beta_2 X_{2,t} + \\ldots + \\beta_k X_{k,t} + \\varepsilon_{t} $$\n",
    "\n",
    "To ensure reproducibility, please set the random seed to 42. Don't use another seed, and remember to set it. Avoiding to follow these guidelines will result in point deductions.\n",
    "\n",
    "**Motivation behind the task**\n",
    "\n",
    "In the dynamic and complex world of financial markets, predictive modeling is a potent tool to decipher underlying patterns and trends that govern security prices. Coming up with good predictors for a certain set of assets is a complicated task that is not necessarily the purpose of this assignment. The concept of bootstrapped alphas, as delineated in this exercise, emerges as a sophisticated method to engineer artificial trading signals that can potentially enhance the predictive power of financial models. It is equivalent to assuming that we have a way to predict the future returns of the index constituents. Look at the alpha bootstrap equation to understand why we are talking about future returns by looking at what the prices indicate.\n",
    "\n",
    "The utilization of bootstrapped alphas is grounded in the mathematical formulation provided, where the alpha ($\\alpha_{i,t}$) for a security $i$ at time $t$ is constructed using a combination of the next period return of the security ($r_{i,t+1}$) and a stochastic component ($z_{i,t}$) drawn from a normal distribution. This formulation allows for the incorporation of both deterministic and random elements, thereby mimicking the inherent uncertainty and volatility observed in financial markets.\n",
    "\n",
    "By setting the correlation coefficient ($\\rho_{\\text{boot}}$) to 0.25, we are essentially moderating the influence of the artificial trading signal, ensuring that it does not overwhelmingly dictate the behavior of the bootstrapped alphas. This parameter, therefore, serves as a tuning knob, allowing us to control the strength of the trading signal and, consequently, its predictive power. However, you have to keep this parameter fixed for this exercise, as indicated by the prompt.\n",
    "\n",
    "The subsequent step of employing these bootstrapped alphas as predictors in a linear predictive forecasting model is an exercise to highlight how well one can expect to forecast index returns, given a good way to predict future returns for the constituents. By replacing the current returns of the constituents with the calculated bootstrapped alphas, we are essentially enhancing the model with artificially generated yet statistically grounded signals that can potentially unveil deeper insights into the market dynamics.\n",
    "\n",
    "**Grading Criteria**\n",
    "\n",
    "- **Data Preparation (30 points)**: Points will be awarded for preparing the data appropriately for the modeling task.\n",
    "\n",
    "- **Predictive Regression Model Building (5 points)**: Points will be awarded based on the correctness and completeness of the regression model built using selected stocks' boostrapped alpha and the index return.\n",
    "- **Model Evaluation (5 points)**: Points will be awarded based on the proper choice of evaluation metric."
   ]
  },
  {
   "cell_type": "code",
   "execution_count": null,
   "id": "a2382133-ac60-4d82-84c2-048ccabad403",
   "metadata": {},
   "outputs": [],
   "source": [
    "### START CODE HERE ###\n",
    "\n",
    "\n",
    "\n",
    "### END CODE HERE ###"
   ]
  }
 ],
 "metadata": {
  "kernelspec": {
   "display_name": "fintech540",
   "language": "python",
   "name": "fintech540"
  },
  "language_info": {
   "codemirror_mode": {
    "name": "ipython",
    "version": 3
   },
   "file_extension": ".py",
   "mimetype": "text/x-python",
   "name": "python",
   "nbconvert_exporter": "python",
   "pygments_lexer": "ipython3",
   "version": "3.8.17"
  }
 },
 "nbformat": 4,
 "nbformat_minor": 5
}
