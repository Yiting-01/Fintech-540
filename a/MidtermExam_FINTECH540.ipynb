{
 "cells": [
  {
   "cell_type": "markdown",
   "id": "2a830672-97c7-4a1a-9f7b-d4c23c0005a8",
   "metadata": {},
   "source": [
    "# Bank Marketing Prediction Task: Identifying Potential Subscribers for a New Product\n",
    "\n",
    "## Overview\n",
    "\n",
    "You are a data science consultant working with a leading bank planning to introduce a new financial product. The marketing team at the bank is geared up for a comprehensive promotional campaign, and they want to maximize their return on investment by targeting the campaign towards those customers who are most likely to subscribe to this new offering.\n",
    "\n",
    "Your primary task is developing a machine learning model to help the bank identify potential future subscribers. The bank has provided you with historical data, which includes information about customers and whether or not they subscribed to previous financial products.\n",
    "\n",
    "### Business Objectives\n",
    "\n",
    "1. **Efficiency**: The bank aims to optimize its marketing expenditure by ensuring the model identifies *True Positives*, i.e., customers who are correctly identified as likely to subscribe. Every *False Positive* leads to an unnecessary cost for the bank.\n",
    "\n",
    "2. **Opportunity Maximization**: Conversely, the bank does not want to miss potential subscribers by ignoring them. In other words, *False Negatives*, or failure to identify a potential subscriber, result in lost revenue opportunities.\n",
    "\n",
    "**The challenge lies in balancing both these objectives. Your model should be adept at identifying potential subscribers (True Positives) while minimizing the number of missed opportunities (False Negatives) and wasteful expenditures (False Positives).**\n",
    "\n",
    "You have to deliver a model trained on the provided dataset and explain the choices you made in how you evaluate the models to assess if the target goals of the banks are met. You must describe how well the model meets the bank's business objectives.\n",
    "\n",
    "### Dataset - Bank Marketing (with social/economic context)\n",
    "\n",
    "The original dataset contains 20 features whose details are provided at the bottom of this notebook. The final preprocessed dataset has been provided to you. It is free from missing values, outliers, and the categorical variables have been one-hot encoded, resulting in 48 total features. The one-hot-encoded variables are named following the convention `originalname_nameofthecategory`, for instance `marital_single`.\n",
    "\n",
    "## Rules\n",
    "\n",
    "Here are the rules that you need to follow:\n",
    "\n",
    "- You have 1 hour and 15 minutes to complete the test. Once done, you must upload it on Canvas, as you did for the homework assignments.\n",
    "- Make sure you restart the kernel and run all cells with no errors before submitting.\n",
    "- When you are submitting your assignments, please ensure that the path you use to import the dataset is not system-specific, which would cause the code to break when executed on a different computer. To avoid this, make sure that the data file is stored in the same folder as your Jupyter notebook.\n",
    "- Ensure that you set the random seed to `42` when preparing the train-test split. The test set size should be exactly 20% of the total dataset. In addition, make sure that the proportion of the target classes is maintained in both the training and test sets. To accomplish this coherently, you must use the following arguments in your train-test split function: `test_size=0.2, random_state=42` and choose the proper variable to `stratify`. Look at [train_test_split](https://scikit-learn.org/stable/modules/generated/sklearn.model_selection.train_test_split.html).\n",
    "- Please also set the `random_state` parameter to 42 in every model that you instantiate.\n",
    "\n",
    "Doc links of packages you may use are provided here: [pandas](https://pandas.pydata.org/docs/), [numpy](https://numpy.org/doc/stable/), [scikit-learn](https://scikit-learn.org/stable/), [xgboost](https://xgboost.readthedocs.io/en/stable/)\n",
    "\n",
    "## Grading Rubric\n",
    "\n",
    "- **Model Effectiveness (60 points)**\n",
    "  - *40 points*: The metric chosen to evaluate the model prediction on the test set allows to achieve the balancing between the two bank objectives.\n",
    "  - *10 points*: Two or more different models are trained and evaluated according to the chosen metric to offer the client a comparison of different tools. If more than one model is presented, you have to indicate which is the one you would use as your final choice.\n",
    "  - *10 points*: The selected model performs better than a `Dummyclassifier` by looking at the chosen metric. You can import the DummyClassifier by running `from sklearn.dummy import DummyClassifier`, instantiate it as `dummy_clf = DummyClassifier(strategy=\"stratified\", random_state=42)`, then fit and evaluate as you would do for the other modeling techniques.\n",
    "  \n",
    "- **Code Execution (10 points)**\n",
    "  - *10 points*: Code is functional and free from errors.\n",
    "\n",
    "- **Written Explanation (30 points)**\n",
    "  - *30 points*: Quality of written explanation detailing how the model achieves its effectiveness, the rationale behind choosing the evaluation metric, and the reasoning for key decisions in selecting the model to deliver.\n",
    "  \n",
    "**Total: 100 points**"
   ]
  },
  {
   "cell_type": "markdown",
   "id": "3687490a-80a5-4a3c-a52b-33a6d58f3916",
   "metadata": {},
   "source": [
    "# Code Solution"
   ]
  },
  {
   "cell_type": "code",
   "execution_count": null,
   "id": "268d0c16-786a-400a-a434-bfd08b3c3b43",
   "metadata": {},
   "outputs": [],
   "source": [
    "# Some empty cells are provided here but you can add more if you need it. Please delete the code that it is unncessary before submitting."
   ]
  },
  {
   "cell_type": "code",
   "execution_count": null,
   "id": "c3d76a2a-29c0-485f-b584-bc4e263df010",
   "metadata": {},
   "outputs": [],
   "source": []
  },
  {
   "cell_type": "code",
   "execution_count": null,
   "id": "ad4d1793-ab7d-4e12-9db3-ebb0c99dbe00",
   "metadata": {},
   "outputs": [],
   "source": []
  },
  {
   "cell_type": "code",
   "execution_count": null,
   "id": "091e97c4-d202-4b00-b908-9b139ffa8255",
   "metadata": {},
   "outputs": [],
   "source": []
  },
  {
   "cell_type": "code",
   "execution_count": null,
   "id": "87cbfa14-ab5a-4cbc-bbde-f3e489e59008",
   "metadata": {},
   "outputs": [],
   "source": []
  },
  {
   "cell_type": "code",
   "execution_count": null,
   "id": "03bbb456-ba95-4e04-aeaa-f47dcfbe91a7",
   "metadata": {},
   "outputs": [],
   "source": []
  },
  {
   "cell_type": "code",
   "execution_count": null,
   "id": "ec4b5581-c113-413e-8d00-10e93556e7b8",
   "metadata": {},
   "outputs": [],
   "source": []
  },
  {
   "cell_type": "markdown",
   "id": "9f9ce45b-004b-418c-9eb8-57a9b8bb4c14",
   "metadata": {},
   "source": [
    "**Write in this markdown cell your comment on the operations you performed**:\n",
    "\n"
   ]
  },
  {
   "cell_type": "markdown",
   "id": "e7220b2c-885e-4116-bb11-eb241b639be6",
   "metadata": {},
   "source": [
    "# Dataset Features\n",
    "\n",
    "**Bank Client Data**:\n",
    "1. `age` (numeric)\n",
    "2. `job`: Type of job (Categorical: Admin, Blue-collar, Entrepreneur, etc.)\n",
    "3. `marital`: Marital status (Categorical: Divorced, Married, Single, etc.)\n",
    "4. `education`: Education level (Categorical: Basic 4y, Basic 6y, Basic 9y, etc.)\n",
    "5. `default`: Has credit in default? (Categorical: No, Yes, Unknown)\n",
    "6. `housing`: Has housing loan? (Categorical: No, Yes, Unknown)\n",
    "7. `loan`: Has personal loan? (Categorical: No, Yes, Unknown)\n",
    "\n",
    "**Related to the Last Contact of the Current Campaign**:\n",
    "\n",
    "8. `contact`: Contact communication type (Categorical: Cellular, Telephone)\n",
    "9. `month`: Last contact month (Categorical: Jan, Feb, Mar, etc.)\n",
    "10. `day_of_week`: Last contact day of the week (Categorical: Mon, Tue, Wed, etc.)\n",
    "11. `duration`: Last contact duration, in seconds (Numeric)\n",
    "\n",
    "**Other Attributes**:\n",
    "\n",
    "12. `campaign`: Number of contacts performed during this campaign for this client (Numeric)\n",
    "13. `pdays`: Number of days that passed after the client was last contacted from a previous campaign (Numeric)\n",
    "14. `previous`: Number of contacts performed before this campaign for this client (Numeric)\n",
    "15. `poutcome`: Outcome of the previous marketing campaign (Categorical: Failure, Nonexistent, Success)\n",
    "\n",
    "**Social and Economic Context Attributes**:\n",
    "\n",
    "16. `emp.var.rate`: Employment variation rate - Quarterly indicator (Numeric)\n",
    "17. `cons.price.idx`: Consumer price index - Monthly indicator (Numeric)\n",
    "18. `cons.conf.idx`: Consumer confidence index - Monthly indicator (Numeric)\n",
    "19. `euribor3m`: Euribor 3-month rate - Daily indicator (Numeric)\n",
    "20. `nr.employed`: Number of employees - Quarterly indicator (Numeric)\n",
    "\n",
    "**Output Variable (Desired Target)**:\n",
    "21. `y': Has the client subscribed to a term deposit? (Binary: Yes, No)\n",
    "\n",
    "# Acknowledgements\n",
    "\n",
    "Moro,S., Rita,P., and Cortez,P.. (2012). Bank Marketing. UCI Machine Learning Repository. https://doi.org/10.24432/C5K306.\n",
    "\n",
    "S. Moro, P. Cortez and P. Rita. A Data-Driven Approach to Predict the Success of Bank Telemarketing. Decision Support Systems, In press, http://dx.doi.org/10.1016/j.dss.2014.03.001\n"
   ]
  }
 ],
 "metadata": {
  "kernelspec": {
   "display_name": "Python 3 (ipykernel)",
   "language": "python",
   "name": "python3"
  },
  "language_info": {
   "codemirror_mode": {
    "name": "ipython",
    "version": 3
   },
   "file_extension": ".py",
   "mimetype": "text/x-python",
   "name": "python",
   "nbconvert_exporter": "python",
   "pygments_lexer": "ipython3",
   "version": "3.11.8"
  }
 },
 "nbformat": 4,
 "nbformat_minor": 5
}
